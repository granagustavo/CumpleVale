{
 "cells": [
  {
   "cell_type": "code",
   "execution_count": 2,
   "id": "5caaf41b",
   "metadata": {},
   "outputs": [
    {
     "data": {
      "text/html": [
       "\n",
       "    <h1 style=\"color: #FF69B4; text-align: center;\">¡Estás invitado a mis 15 años!</h1>\n",
       "    <h2 style=\"color: #4B0082; text-align: center;\">Fecha: 1 de Diciembre, 2024 a las 19:00 hrs</h2>\n",
       "    <h3 style=\"text-align: center;\">Ubicación: <a href=\"https://www.google.com/maps/place/Sal%C3%B3n+Las+Estrellas,+Ciudad+XYZ\" target=\"_blank\">Ver en Google Maps</a></h3>\n",
       "    <p style=\"text-align: center;\">Cuenta regresiva: 80 días, 3 horas, 46 minutos, 15 segundos.</p>\n",
       "    <p style=\"text-align: center;\">\n",
       "        <strong>Confirma tu asistencia respondiendo a la pregunta a continuación.</strong>\n",
       "    </p>\n"
      ],
      "text/plain": [
       "<IPython.core.display.HTML object>"
      ]
     },
     "metadata": {},
     "output_type": "display_data"
    },
    {
     "data": {
      "application/vnd.jupyter.widget-view+json": {
       "model_id": "8987866ca18a478ba504c4849086f4c6",
       "version_major": 2,
       "version_minor": 0
      },
      "text/plain": [
       "Text(value='', description='Asistencia:', placeholder='Escribe Sí o No')"
      ]
     },
     "metadata": {},
     "output_type": "display_data"
    },
    {
     "data": {
      "application/vnd.jupyter.widget-view+json": {
       "model_id": "d8582ca4aa974733a39f77acf2f50b36",
       "version_major": 2,
       "version_minor": 0
      },
      "text/plain": [
       "Button(description='Confirmar asistencia', style=ButtonStyle())"
      ]
     },
     "metadata": {},
     "output_type": "display_data"
    },
    {
     "data": {
      "application/vnd.jupyter.widget-view+json": {
       "model_id": "bea16e52cc2a45be8fa1826790c8925d",
       "version_major": 2,
       "version_minor": 0
      },
      "text/plain": [
       "Label(value='')"
      ]
     },
     "metadata": {},
     "output_type": "display_data"
    }
   ],
   "source": [
    "from datetime import datetime\n",
    "from IPython.display import display, HTML\n",
    "import ipywidgets as widgets\n",
    "\n",
    "# Fecha del evento\n",
    "event_date = datetime(2024, 12, 1, 19, 0, 0)  # Ajusta la fecha y hora del evento\n",
    "\n",
    "def countdown(event_date):\n",
    "    # Obtener la diferencia de tiempo\n",
    "    now = datetime.now()\n",
    "    time_left = event_date - now\n",
    "    \n",
    "    # Días, horas, minutos y segundos restantes\n",
    "    days = time_left.days\n",
    "    hours, remainder = divmod(time_left.seconds, 3600)\n",
    "    minutes, seconds = divmod(remainder, 60)\n",
    "    \n",
    "    return f\"Cuenta regresiva: {days} días, {hours} horas, {minutes} minutos, {seconds} segundos.\"\n",
    "\n",
    "def on_button_click(b):\n",
    "    # Obtener el valor del widget de confirmación\n",
    "    if attendance.value.lower() == \"sí\" or attendance.value.lower() == \"si\":\n",
    "        confirmation_label.value = \"¡Gracias por confirmar tu asistencia!\"\n",
    "    elif attendance.value.lower() == \"no\":\n",
    "        confirmation_label.value = \"Esperamos verte en otra ocasión.\"\n",
    "    else:\n",
    "        confirmation_label.value = \"Por favor, ingresa 'Sí' o 'No'.\"\n",
    "\n",
    "# Detalles de la invitación\n",
    "title = \"¡Estás invitado a mis 15 años!\"\n",
    "location = \"Salón Las Estrellas, Ciudad XYZ\"\n",
    "event_info = f\"Fecha: 1 de Diciembre, 2024 a las 19:00 hrs\"\n",
    "\n",
    "# Enlace de Google Maps para la ubicación\n",
    "maps_link = \"https://www.google.com/maps/place/Sal%C3%B3n+Las+Estrellas,+Ciudad+XYZ\"\n",
    "\n",
    "# Mostrar la invitación\n",
    "html_content = f\"\"\"\n",
    "    <h1 style=\"color: #FF69B4; text-align: center;\">{title}</h1>\n",
    "    <h2 style=\"color: #4B0082; text-align: center;\">{event_info}</h2>\n",
    "    <h3 style=\"text-align: center;\">Ubicación: <a href=\"{maps_link}\" target=\"_blank\">Ver en Google Maps</a></h3>\n",
    "    <p style=\"text-align: center;\">{countdown(event_date)}</p>\n",
    "    <p style=\"text-align: center;\">\n",
    "        <strong>Confirma tu asistencia respondiendo a la pregunta a continuación.</strong>\n",
    "    </p>\n",
    "\"\"\"\n",
    "\n",
    "# Mostrar la invitación en Jupyter\n",
    "display(HTML(html_content))\n",
    "\n",
    "# Widget para confirmar asistencia\n",
    "attendance = widgets.Text(\n",
    "    placeholder='Escribe Sí o No',\n",
    "    description='Asistencia:',\n",
    "    disabled=False\n",
    ")\n",
    "\n",
    "# Botón para confirmar\n",
    "button = widgets.Button(description=\"Confirmar asistencia\")\n",
    "button.on_click(on_button_click)\n",
    "\n",
    "# Etiqueta para mostrar confirmación\n",
    "confirmation_label = widgets.Label(value=\"\")\n",
    "\n",
    "# Mostrar los widgets en Jupyter\n",
    "display(attendance)\n",
    "display(button)\n",
    "display(confirmation_label)\n"
   ]
  },
  {
   "cell_type": "code",
   "execution_count": 3,
   "id": "66c1cc12",
   "metadata": {},
   "outputs": [
    {
     "data": {
      "text/plain": [
       "2"
      ]
     },
     "execution_count": 3,
     "metadata": {},
     "output_type": "execute_result"
    }
   ],
   "source": [
    "1+1"
   ]
  }
 ],
 "metadata": {
  "kernelspec": {
   "display_name": "Python 3 (ipykernel)",
   "language": "python",
   "name": "python3"
  },
  "language_info": {
   "codemirror_mode": {
    "name": "ipython",
    "version": 3
   },
   "file_extension": ".py",
   "mimetype": "text/x-python",
   "name": "python",
   "nbconvert_exporter": "python",
   "pygments_lexer": "ipython3",
   "version": "3.11.5"
  }
 },
 "nbformat": 4,
 "nbformat_minor": 5
}
